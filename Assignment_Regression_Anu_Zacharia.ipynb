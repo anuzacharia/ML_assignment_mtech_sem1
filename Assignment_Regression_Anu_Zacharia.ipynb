{
  "cells": [
    {
      "cell_type": "markdown",
      "source": [
        "Assignment - Predict \"sepal length\" using \"sepal width (cm)\", \"petal length (cm)\",\"petal width (cm)\"\n",
        "\n",
        "Submitted by - Anu Zacharia , M.Tech DS&AI"
      ],
      "metadata": {
        "id": "_0_yllbqpKtL"
      }
    },
    {
      "cell_type": "code",
      "source": [
        "# Imports \n",
        "from sklearn.datasets import load_iris\n",
        "from sklearn.model_selection import train_test_split\n",
        "from sklearn.linear_model import LinearRegression\n",
        "import pandas as pd\n",
        "import matplotlib.pyplot as plt\n",
        "from sklearn.metrics import mean_squared_error, r2_score\n",
        "\n",
        "# Load Data\n",
        "iris = load_iris()\n",
        "\n",
        "# Create a dataframe\n",
        "df = pd.DataFrame(iris.data, columns = iris.feature_names)\n",
        "X = df.filter([\"sepal width (cm)\", \"petal length (cm)\",\"petal width (cm)\"])\n",
        "y = df[[\"sepal length (cm)\"]]\n",
        "\n",
        "X_train, X_test, y_train,y_test = train_test_split(X , y , test_size = 0.3, random_state = 100)\n"
      ],
      "metadata": {
        "id": "3mawaZDdiGUn"
      },
      "execution_count": null,
      "outputs": []
    },
    {
      "cell_type": "markdown",
      "source": [
        "<b>Linear Regression</b>"
      ],
      "metadata": {
        "id": "m-sIWjWhpFSi"
      }
    },
    {
      "cell_type": "code",
      "source": [
        "#now to do regression\n",
        "model = LinearRegression()\n",
        "model = model.fit(X_train,y_train)\n",
        "\n",
        "print(\"Intercept \" , model.intercept_)\n",
        "print(\"Coefficients \" ,model.coef_)\n",
        "\n",
        "y_pred = model.predict(X_test)\n",
        "\n",
        "# The mean squared error\n",
        "print(\"Mean squared error: %.2f\" % mean_squared_error(y_test, y_pred))\n",
        "# The coefficient of determination: 1 is perfect prediction\n",
        "print(\"Coefficient of determination: %.2f\" % r2_score(y_test, y_pred))\n",
        "#evaluate the model use score function\n",
        "print(\"Training score\" ,model.score(X_train,y_train))\n",
        "#now to get the score of testing data\n",
        "print(\"Testing score\",model.score(X_test,y_test))\n",
        "\n",
        "compare_df = pd.DataFrame({'Actual': y_test.squeeze(), 'Predicted': y_pred.squeeze()})\n",
        "print(compare_df.head())\n",
        "\n",
        "plt.figure(figsize=(10,10))\n",
        "plt.scatter(y_test, y_pred, c='crimson')\n",
        "\n",
        "\n",
        "plt.xlabel('True Values', fontsize=15)\n",
        "plt.ylabel('Predictions', fontsize=15)\n",
        "plt.axis('equal')\n",
        "plt.show()\n"
      ],
      "metadata": {
        "colab": {
          "base_uri": "https://localhost:8080/",
          "height": 825
        },
        "id": "M1pqLNmzo_zz",
        "outputId": "044a637a-53e1-4e79-dacc-02574b359d91"
      },
      "execution_count": null,
      "outputs": [
        {
          "output_type": "stream",
          "name": "stdout",
          "text": [
            "Intercept  [1.64341446]\n",
            "Coefficients  [[ 0.70186652  0.75528625 -0.68325039]]\n",
            "Mean squared error: 0.11\n",
            "Coefficient of determination: 0.86\n",
            "Training score 0.85295484653335\n",
            "Testing score 0.8558768972877798\n",
            "   Actual  Predicted\n",
            "0     6.4   6.403418\n",
            "1     4.8   5.101569\n",
            "2     7.7   7.108267\n",
            "3     5.7   5.591256\n",
            "4     6.3   6.009506\n"
          ]
        },
        {
          "output_type": "display_data",
          "data": {
            "text/plain": [
              "<Figure size 720x720 with 1 Axes>"
            ],
            "image/png": "[encoded data removed]"
          },
          "metadata": {
            "needs_background": "light"
          }
        }
      ]
    },
    {
      "cell_type": "markdown",
      "source": [
        "<b>Random Forest Regressor</b>"
      ],
      "metadata": {
        "id": "5K0DFgrppJlc"
      }
    },
    {
      "cell_type": "code",
      "source": [
        "from sklearn.ensemble import RandomForestRegressor\n",
        "model = RandomForestRegressor()\n",
        "model = model.fit(X_train,y_train.ravel())\n",
        "\n",
        "\n",
        "y_pred = model.predict(X_test)\n",
        "\n",
        "# The mean squared error\n",
        "print(\"Mean squared error: %.2f\" % mean_squared_error(y_test, y_pred))\n",
        "# The coefficient of determination: 1 is perfect prediction\n",
        "print(\"Coefficient of determination: %.2f\" % r2_score(y_test, y_pred))\n",
        "#evaluate the model use score function\n",
        "print(\"Training score\" ,model.score(X_train,y_train))\n",
        "#now to get the score of testing data\n",
        "print(\"Testing score\",model.score(X_test,y_test))\n",
        "\n",
        "compare_df = pd.DataFrame({'Actual': y_test.squeeze(), 'Predicted': y_pred.squeeze()})\n",
        "print(compare_df.head())\n",
        "\n",
        "plt.figure(figsize=(10,10))\n",
        "plt.scatter(y_test, y_pred, c='crimson')\n",
        "\n",
        "\n",
        "plt.xlabel('True Values', fontsize=15)\n",
        "plt.ylabel('Predictions', fontsize=15)\n",
        "plt.axis('equal')\n",
        "plt.show()"
      ],
      "metadata": {
        "colab": {
          "base_uri": "https://localhost:8080/",
          "height": 789
        },
        "id": "uavR63ZjoKR-",
        "outputId": "8d2fca83-7ac7-4ff1-ba06-deb07dd31024"
      },
      "execution_count": null,
      "outputs": [
        {
          "output_type": "stream",
          "name": "stdout",
          "text": [
            "Mean squared error: 0.10\n",
            "Coefficient of determination: 0.86\n",
            "Training score 0.97233006104366\n",
            "Testing score 0.8632708346841163\n",
            "   Actual  Predicted\n",
            "0     6.4      6.336\n",
            "1     4.8      5.033\n",
            "2     7.7      7.384\n",
            "3     5.7      5.338\n",
            "4     6.3      6.033\n"
          ]
        },
        {
          "output_type": "display_data",
          "data": {
            "text/plain": [
              "<Figure size 720x720 with 1 Axes>"
            ],
            "image/png": "[encoded data removed]"
          },
          "metadata": {
            "needs_background": "light"
          }
        }
      ]
    },
    {
      "cell_type": "markdown",
      "source": [
        "<b>Polynomial regression of degree 2</b>"
      ],
      "metadata": {
        "id": "m51rzgOhrehx"
      }
    },
    {
      "cell_type": "code",
      "source": [
        "from sklearn.linear_model import LinearRegression\n",
        "from sklearn.datasets import load_boston\n",
        "from sklearn.preprocessing import PolynomialFeatures\n",
        "from sklearn.metrics import mean_squared_error, r2_score\n",
        "# poly with x^2 and x^3\n",
        "polynomial = PolynomialFeatures(degree=2, include_bias=False)\n",
        "X_poly_train = polynomial.fit_transform(X_train)\n",
        "X_poly_test = polynomial.fit_transform(X_test)\n",
        "\n",
        "regression = LinearRegression()\n",
        "model = regression.fit(X_poly_train, y_train)\n",
        "#evaluate the model use score function\n",
        "\n",
        "y_pred = regression.predict(X_poly_test)\n",
        "# model evaluation\n",
        "mse_deg2 = mean_squared_error(y_test, y_pred)\n",
        "  \n",
        "r2_deg2 = r2_score(y_test, y_pred)\n",
        "  \n",
        "# printing values\n",
        "  \n",
        "print('MSE of Polyregression model', mse_deg2)\n",
        "  \n",
        "print('R2 score of Polyregression model: ', r2_deg2)\n",
        "\n",
        "print(regression.coef_)\n",
        "print(regression.intercept_)\n",
        "print(\"Training score\" ,model.score(X_poly_train,y_train))\n",
        "#now to get the score of testing data\n",
        "print(\"Testing score\",model.score(X_poly_test,y_test))\n",
        "compare_df = pd.DataFrame({'Actual': y_test.squeeze(), 'Predicted': y_pred.squeeze()})\n",
        "print(compare_df.head())\n",
        "\n",
        "plt.figure(figsize=(10,10))\n",
        "plt.scatter(y_test, y_pred, c='crimson')\n",
        "\n",
        "\n",
        "plt.xlabel('True Values', fontsize=15)\n",
        "plt.ylabel('Predictions', fontsize=15)\n",
        "plt.axis('equal')\n",
        "plt.show()"
      ],
      "metadata": {
        "colab": {
          "base_uri": "https://localhost:8080/",
          "height": 843
        },
        "id": "BKwtsXvjrJ4y",
        "outputId": "d7cd2351-521a-4025-e33b-84f8cdc7ec28"
      },
      "execution_count": null,
      "outputs": [
        {
          "output_type": "stream",
          "name": "stdout",
          "text": [
            "MSE of Polyregression model 0.10039227426543375\n",
            "R2 score of Polyregression model:  0.8649476148359109\n",
            "[[ 0.14653055  0.75276406 -0.48489715  0.11566273 -0.07322685  0.0616806\n",
            "   0.05162001 -0.16057611  0.13221161]]\n",
            "[2.38882077]\n",
            "Training score 0.8571044082665376\n",
            "Testing score 0.8649476148359109\n",
            "   Actual  Predicted\n",
            "0     6.4   6.431063\n",
            "1     4.8   5.061169\n",
            "2     7.7   7.294334\n",
            "3     5.7   5.874187\n",
            "4     6.3   6.025821\n"
          ]
        },
        {
          "output_type": "display_data",
          "data": {
            "text/plain": [
              "<Figure size 720x720 with 1 Axes>"
            ],
            "image/png": "[encoded data removed]"
          },
          "metadata": {
            "needs_background": "light"
          }
        }
      ]
    },
    {
      "cell_type": "markdown",
      "source": [
        "<b>Polynomial regression of degree 3</b>"
      ],
      "metadata": {
        "id": "BoyYYeIZrlph"
      }
    },
    {
      "cell_type": "code",
      "source": [
        "from sklearn.linear_model import LinearRegression\n",
        "from sklearn.datasets import load_boston\n",
        "from sklearn.preprocessing import PolynomialFeatures\n",
        "from sklearn.metrics import mean_squared_error, r2_score\n",
        "# poly with x^2 and x^3\n",
        "polynomial = PolynomialFeatures(degree=3, include_bias=False)\n",
        "X_poly_train = polynomial.fit_transform(X_train)\n",
        "X_poly_test = polynomial.fit_transform(X_test)\n",
        "\n",
        "regression = LinearRegression()\n",
        "model = regression.fit(X_poly_train, y_train)\n",
        "#evaluate the model use score function\n",
        "\n",
        "y_pred = regression.predict(X_poly_test)\n",
        "# model evaluation\n",
        "mse_deg3 = mean_squared_error(y_test, y_pred)\n",
        "  \n",
        "r2_deg3 = r2_score(y_test, y_pred)\n",
        "  \n",
        "# printing values\n",
        "  \n",
        "print('MSE of Polyregression model', mse_deg3)\n",
        "  \n",
        "print('R2 score of Polyregression model: ', r2_deg3)\n",
        "print(regression.coef_)\n",
        "print(regression.intercept_)\n",
        "print(\"Training score\" ,model.score(X_poly_train,y_train))\n",
        "#now to get the score of testing data\n",
        "print(\"Testing score\",model.score(X_poly_test,y_test))\n",
        "compare_df = pd.DataFrame({'Actual': y_test.squeeze(), 'Predicted': y_pred.squeeze()})\n",
        "print(compare_df.head())\n",
        "\n",
        "plt.figure(figsize=(10,10))\n",
        "plt.scatter(y_test, y_pred, c='crimson')\n",
        "\n",
        "\n",
        "plt.xlabel('True Values', fontsize=15)\n",
        "plt.ylabel('Predictions', fontsize=15)\n",
        "plt.axis('equal')\n",
        "plt.show()"
      ],
      "metadata": {
        "colab": {
          "base_uri": "https://localhost:8080/",
          "height": 878
        },
        "id": "gyosZ9ibrdAC",
        "outputId": "82711c77-7c9b-47ac-c270-961d4d3e5a39"
      },
      "execution_count": null,
      "outputs": [
        {
          "output_type": "stream",
          "name": "stdout",
          "text": [
            "MSE of Polyregression model 0.18261356593095748\n",
            "R2 score of Polyregression model:  0.7543396857701529\n",
            "[[ -3.85086223  10.64537878 -25.82156921   2.22360386  -5.50325898\n",
            "   15.10091404  -0.48140712   0.6089582    1.05068258  -0.27788433\n",
            "    0.69337481  -2.1449423    0.35812667  -1.25565655   1.07763574\n",
            "   -0.34563306   2.77371884  -7.30597628   6.29645174]]\n",
            "[2.82710355]\n",
            "Training score 0.8836289979091935\n",
            "Testing score 0.7543396857701529\n",
            "   Actual  Predicted\n",
            "0     6.4   6.351411\n",
            "1     4.8   5.071056\n",
            "2     7.7   7.357951\n",
            "3     5.7   5.100561\n",
            "4     6.3   5.958509\n"
          ]
        },
        {
          "output_type": "display_data",
          "data": {
            "text/plain": [
              "<Figure size 720x720 with 1 Axes>"
            ],
            "image/png": "[encoded data removed]"
          },
          "metadata": {
            "needs_background": "light"
          }
        }
      ]
    },
    {
      "cell_type": "markdown",
      "source": [],
      "metadata": {
        "id": "4kXVLt5htJhz"
      }
    },
    {
      "cell_type": "code",
      "source": [
        "X.insert(0,'BETA_0',1)\n",
        "X_transpose = X.T\n",
        "X_transpose.head()\n",
        "X_transpose_X = X_transpose.dot(X );\n",
        "\n",
        "X_transpose_Y =  X_transpose.dot(y );\n",
        "\n",
        "X_transpose_X.to_numpy()\n",
        "X_transpose_X_inv = np.linalg.inv(X_transpose_X) \n",
        "\n",
        "BETA = X_transpose_X_inv.dot(X_transpose_Y)\n",
        "print(BETA)"
      ],
      "metadata": {
        "colab": {
          "base_uri": "https://localhost:8080/"
        },
        "id": "Qat8OF4FWUEL",
        "outputId": "3c025c00-b8d6-4fb4-8e30-69bdfa95533c"
      },
      "execution_count": null,
      "outputs": [
        {
          "output_type": "stream",
          "name": "stdout",
          "text": [
            "[[ 1.85599749]\n",
            " [ 0.65083716]\n",
            " [ 0.70913196]\n",
            " [-0.55648266]]\n"
          ]
        }
      ]
    },
    {
      "cell_type": "code",
      "source": [],
      "metadata": {
        "id": "QwjTFEP8rsnP"
      },
      "execution_count": null,
      "outputs": []
    }
  ],
  "metadata": {
    "colab": {
      "provenance": []
    },
    "kernelspec": {
      "display_name": "Python 3",
      "name": "python3"
    },
    "language_info": {
      "name": "python"
    }
  },
  "nbformat": 4,
  "nbformat_minor": 0
}